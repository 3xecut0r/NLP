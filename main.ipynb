{
 "cells": [
  {
   "cell_type": "markdown",
   "metadata": {},
   "source": [
    "**SpaCy**"
   ]
  },
  {
   "cell_type": "code",
   "execution_count": 31,
   "metadata": {},
   "outputs": [],
   "source": [
    "import spacy\n",
    "from spacy.lang.en.stop_words import STOP_WORDS as spacy_SW\n",
    "from string import punctuation as punct\n",
    "from heapq import nlargest"
   ]
  },
  {
   "cell_type": "code",
   "execution_count": 30,
   "metadata": {},
   "outputs": [
    {
     "name": "stdout",
     "output_type": "stream",
     "text": [
      "Defaulting to user installation because normal site-packages is not writeable\n",
      "Collecting en-core-web-sm==3.7.1\n",
      "  Downloading https://github.com/explosion/spacy-models/releases/download/en_core_web_sm-3.7.1/en_core_web_sm-3.7.1-py3-none-any.whl (12.8 MB)\n",
      "     ---------------------------------------- 0.0/12.8 MB ? eta -:--:--\n",
      "     ---------------------------------------- 0.1/12.8 MB 2.2 MB/s eta 0:00:06\n",
      "     - -------------------------------------- 0.3/12.8 MB 3.4 MB/s eta 0:00:04\n",
      "     - -------------------------------------- 0.4/12.8 MB 3.0 MB/s eta 0:00:05\n",
      "     - -------------------------------------- 0.4/12.8 MB 3.0 MB/s eta 0:00:05\n",
      "     - -------------------------------------- 0.4/12.8 MB 3.0 MB/s eta 0:00:05\n",
      "     - -------------------------------------- 0.5/12.8 MB 1.8 MB/s eta 0:00:08\n",
      "     - -------------------------------------- 0.5/12.8 MB 1.8 MB/s eta 0:00:08\n",
      "     - -------------------------------------- 0.5/12.8 MB 1.8 MB/s eta 0:00:08\n",
      "     - -------------------------------------- 0.5/12.8 MB 1.8 MB/s eta 0:00:08\n",
      "     - -------------------------------------- 0.5/12.8 MB 1.8 MB/s eta 0:00:08\n",
      "     - -------------------------------------- 0.5/12.8 MB 1.8 MB/s eta 0:00:08\n",
      "     - ------------------------------------- 0.6/12.8 MB 992.2 kB/s eta 0:00:13\n",
      "     - ------------------------------------- 0.6/12.8 MB 992.2 kB/s eta 0:00:13\n",
      "     - ------------------------------------- 0.6/12.8 MB 992.2 kB/s eta 0:00:13\n",
      "     - ------------------------------------- 0.6/12.8 MB 992.2 kB/s eta 0:00:13\n",
      "     - ------------------------------------- 0.6/12.8 MB 992.2 kB/s eta 0:00:13\n",
      "     - ------------------------------------- 0.6/12.8 MB 733.3 kB/s eta 0:00:17\n",
      "     - ------------------------------------- 0.6/12.8 MB 717.9 kB/s eta 0:00:18\n",
      "     - ------------------------------------- 0.6/12.8 MB 717.9 kB/s eta 0:00:18\n",
      "     - ------------------------------------- 0.6/12.8 MB 717.9 kB/s eta 0:00:18\n",
      "     - ------------------------------------- 0.6/12.8 MB 717.9 kB/s eta 0:00:18\n",
      "     - ------------------------------------- 0.6/12.8 MB 717.9 kB/s eta 0:00:18\n",
      "     - ------------------------------------- 0.6/12.8 MB 717.9 kB/s eta 0:00:18\n",
      "     - ------------------------------------- 0.6/12.8 MB 717.9 kB/s eta 0:00:18\n",
      "     -- ------------------------------------ 0.7/12.8 MB 575.3 kB/s eta 0:00:22\n",
      "     -- ------------------------------------ 0.7/12.8 MB 596.4 kB/s eta 0:00:21\n",
      "     -- ------------------------------------ 0.9/12.8 MB 679.4 kB/s eta 0:00:18\n",
      "     -- ------------------------------------ 0.9/12.8 MB 694.1 kB/s eta 0:00:18\n",
      "     --- ----------------------------------- 1.1/12.8 MB 809.6 kB/s eta 0:00:15\n",
      "     --- ----------------------------------- 1.2/12.8 MB 853.9 kB/s eta 0:00:14\n",
      "     ---- ---------------------------------- 1.3/12.8 MB 902.1 kB/s eta 0:00:13\n",
      "     ---- ---------------------------------- 1.4/12.8 MB 975.9 kB/s eta 0:00:12\n",
      "     ---- ---------------------------------- 1.5/12.8 MB 986.2 kB/s eta 0:00:12\n",
      "     ----- ---------------------------------- 1.7/12.8 MB 1.1 MB/s eta 0:00:11\n",
      "     ----- ---------------------------------- 1.8/12.8 MB 1.1 MB/s eta 0:00:10\n",
      "     ----- ---------------------------------- 1.8/12.8 MB 1.1 MB/s eta 0:00:11\n",
      "     ------ --------------------------------- 1.9/12.8 MB 1.1 MB/s eta 0:00:10\n",
      "     ------ --------------------------------- 2.1/12.8 MB 1.2 MB/s eta 0:00:10\n",
      "     ------- -------------------------------- 2.3/12.8 MB 1.2 MB/s eta 0:00:09\n",
      "     ------- -------------------------------- 2.4/12.8 MB 1.3 MB/s eta 0:00:08\n",
      "     -------- ------------------------------- 2.6/12.8 MB 1.4 MB/s eta 0:00:08\n",
      "     -------- ------------------------------- 2.8/12.8 MB 1.4 MB/s eta 0:00:07\n",
      "     --------- ------------------------------ 3.0/12.8 MB 1.5 MB/s eta 0:00:07\n",
      "     --------- ------------------------------ 3.1/12.8 MB 1.5 MB/s eta 0:00:07\n",
      "     ---------- ----------------------------- 3.2/12.8 MB 1.5 MB/s eta 0:00:07\n",
      "     ---------- ----------------------------- 3.3/12.8 MB 1.6 MB/s eta 0:00:07\n",
      "     ---------- ----------------------------- 3.3/12.8 MB 1.6 MB/s eta 0:00:07\n",
      "     ---------- ----------------------------- 3.3/12.8 MB 1.6 MB/s eta 0:00:07\n",
      "     ---------- ----------------------------- 3.3/12.8 MB 1.6 MB/s eta 0:00:07\n",
      "     ---------- ----------------------------- 3.3/12.8 MB 1.6 MB/s eta 0:00:07\n",
      "     ---------- ----------------------------- 3.3/12.8 MB 1.6 MB/s eta 0:00:07\n",
      "     ---------- ----------------------------- 3.3/12.8 MB 1.6 MB/s eta 0:00:07\n",
      "     ---------- ----------------------------- 3.3/12.8 MB 1.6 MB/s eta 0:00:07\n",
      "     ---------- ----------------------------- 3.3/12.8 MB 1.6 MB/s eta 0:00:07\n",
      "     ---------- ----------------------------- 3.3/12.8 MB 1.6 MB/s eta 0:00:07\n",
      "     ---------- ----------------------------- 3.3/12.8 MB 1.6 MB/s eta 0:00:07\n",
      "     ---------- ----------------------------- 3.3/12.8 MB 1.6 MB/s eta 0:00:07\n",
      "     ---------- ----------------------------- 3.3/12.8 MB 1.6 MB/s eta 0:00:07\n",
      "     ---------- ----------------------------- 3.3/12.8 MB 1.6 MB/s eta 0:00:07\n",
      "     ---------- ----------------------------- 3.3/12.8 MB 1.6 MB/s eta 0:00:07\n",
      "     ---------- ----------------------------- 3.5/12.8 MB 1.2 MB/s eta 0:00:08\n",
      "     ----------- ---------------------------- 3.5/12.8 MB 1.2 MB/s eta 0:00:08\n",
      "     ----------- ---------------------------- 3.5/12.8 MB 1.2 MB/s eta 0:00:08\n",
      "     ----------- ---------------------------- 3.6/12.8 MB 1.2 MB/s eta 0:00:08\n",
      "     ----------- ---------------------------- 3.6/12.8 MB 1.2 MB/s eta 0:00:08\n",
      "     ----------- ---------------------------- 3.6/12.8 MB 1.2 MB/s eta 0:00:08\n",
      "     ----------- ---------------------------- 3.6/12.8 MB 1.2 MB/s eta 0:00:08\n",
      "     ----------- ---------------------------- 3.6/12.8 MB 1.1 MB/s eta 0:00:09\n",
      "     ----------- ---------------------------- 3.7/12.8 MB 1.1 MB/s eta 0:00:08\n",
      "     ----------- ---------------------------- 3.8/12.8 MB 1.2 MB/s eta 0:00:08\n",
      "     ------------ --------------------------- 3.9/12.8 MB 1.2 MB/s eta 0:00:08\n",
      "     ------------ --------------------------- 3.9/12.8 MB 1.2 MB/s eta 0:00:08\n",
      "     ------------ --------------------------- 4.0/12.8 MB 1.2 MB/s eta 0:00:08\n",
      "     ------------ --------------------------- 4.2/12.8 MB 1.2 MB/s eta 0:00:08\n",
      "     ------------- -------------------------- 4.3/12.8 MB 1.2 MB/s eta 0:00:07\n",
      "     ------------- -------------------------- 4.4/12.8 MB 1.2 MB/s eta 0:00:07\n",
      "     -------------- ------------------------- 4.5/12.8 MB 1.3 MB/s eta 0:00:07\n",
      "     -------------- ------------------------- 4.6/12.8 MB 1.3 MB/s eta 0:00:07\n",
      "     -------------- ------------------------- 4.8/12.8 MB 1.3 MB/s eta 0:00:07\n",
      "     --------------- ------------------------ 4.9/12.8 MB 1.3 MB/s eta 0:00:07\n",
      "     --------------- ------------------------ 5.0/12.8 MB 1.3 MB/s eta 0:00:06\n",
      "     ---------------- ----------------------- 5.2/12.8 MB 1.3 MB/s eta 0:00:06\n",
      "     ---------------- ----------------------- 5.3/12.8 MB 1.4 MB/s eta 0:00:06\n",
      "     ----------------- ---------------------- 5.5/12.8 MB 1.4 MB/s eta 0:00:06\n",
      "     ----------------- ---------------------- 5.6/12.8 MB 1.4 MB/s eta 0:00:06\n",
      "     ----------------- ---------------------- 5.7/12.8 MB 1.4 MB/s eta 0:00:05\n",
      "     ------------------ --------------------- 5.8/12.8 MB 1.4 MB/s eta 0:00:05\n",
      "     ------------------ --------------------- 5.9/12.8 MB 1.4 MB/s eta 0:00:05\n",
      "     ------------------- -------------------- 6.1/12.8 MB 1.5 MB/s eta 0:00:05\n",
      "     ------------------- -------------------- 6.2/12.8 MB 1.5 MB/s eta 0:00:05\n",
      "     ------------------- -------------------- 6.4/12.8 MB 1.5 MB/s eta 0:00:05\n",
      "     -------------------- ------------------- 6.5/12.8 MB 1.5 MB/s eta 0:00:05\n",
      "     -------------------- ------------------- 6.7/12.8 MB 1.5 MB/s eta 0:00:04\n",
      "     --------------------- ------------------ 6.9/12.8 MB 1.6 MB/s eta 0:00:04\n",
      "     --------------------- ------------------ 7.0/12.8 MB 1.6 MB/s eta 0:00:04\n",
      "     --------------------- ------------------ 7.0/12.8 MB 1.6 MB/s eta 0:00:04\n",
      "     --------------------- ------------------ 7.0/12.8 MB 1.6 MB/s eta 0:00:04\n",
      "     --------------------- ------------------ 7.0/12.8 MB 1.6 MB/s eta 0:00:04\n",
      "     --------------------- ------------------ 7.0/12.8 MB 1.6 MB/s eta 0:00:04\n",
      "     --------------------- ------------------ 7.0/12.8 MB 1.6 MB/s eta 0:00:04\n",
      "     --------------------- ------------------ 7.0/12.8 MB 1.6 MB/s eta 0:00:04\n",
      "     --------------------- ------------------ 7.0/12.8 MB 1.6 MB/s eta 0:00:04\n",
      "     --------------------- ------------------ 7.0/12.8 MB 1.6 MB/s eta 0:00:04\n",
      "     --------------------- ------------------ 7.0/12.8 MB 1.6 MB/s eta 0:00:04\n",
      "     --------------------- ------------------ 7.0/12.8 MB 1.6 MB/s eta 0:00:04\n",
      "     --------------------- ------------------ 7.0/12.8 MB 1.6 MB/s eta 0:00:04\n",
      "     --------------------- ------------------ 7.0/12.8 MB 1.6 MB/s eta 0:00:04\n",
      "     --------------------- ------------------ 7.0/12.8 MB 1.6 MB/s eta 0:00:04\n",
      "     --------------------- ------------------ 7.0/12.8 MB 1.6 MB/s eta 0:00:04\n",
      "     ---------------------- ----------------- 7.0/12.8 MB 1.4 MB/s eta 0:00:05\n",
      "     ---------------------- ----------------- 7.1/12.8 MB 1.4 MB/s eta 0:00:05\n",
      "     ---------------------- ----------------- 7.1/12.8 MB 1.4 MB/s eta 0:00:05\n",
      "     ---------------------- ----------------- 7.2/12.8 MB 1.4 MB/s eta 0:00:05\n",
      "     ---------------------- ----------------- 7.3/12.8 MB 1.4 MB/s eta 0:00:05\n",
      "     ---------------------- ----------------- 7.3/12.8 MB 1.4 MB/s eta 0:00:04\n",
      "     ----------------------- ---------------- 7.5/12.8 MB 1.4 MB/s eta 0:00:04\n",
      "     ----------------------- ---------------- 7.6/12.8 MB 1.4 MB/s eta 0:00:04\n",
      "     ------------------------ --------------- 7.7/12.8 MB 1.4 MB/s eta 0:00:04\n",
      "     ------------------------ --------------- 7.8/12.8 MB 1.4 MB/s eta 0:00:04\n",
      "     ------------------------ --------------- 8.0/12.8 MB 1.4 MB/s eta 0:00:04\n",
      "     ------------------------- -------------- 8.1/12.8 MB 1.4 MB/s eta 0:00:04\n",
      "     ------------------------- -------------- 8.1/12.8 MB 1.4 MB/s eta 0:00:04\n",
      "     ------------------------- -------------- 8.3/12.8 MB 1.4 MB/s eta 0:00:04\n",
      "     -------------------------- ------------- 8.4/12.8 MB 1.5 MB/s eta 0:00:04\n",
      "     -------------------------- ------------- 8.5/12.8 MB 1.5 MB/s eta 0:00:03\n",
      "     -------------------------- ------------- 8.6/12.8 MB 1.5 MB/s eta 0:00:03\n",
      "     --------------------------- ------------ 8.7/12.8 MB 1.5 MB/s eta 0:00:03\n",
      "     --------------------------- ------------ 8.7/12.8 MB 1.5 MB/s eta 0:00:03\n",
      "     --------------------------- ------------ 8.9/12.8 MB 1.5 MB/s eta 0:00:03\n",
      "     --------------------------- ------------ 8.9/12.8 MB 1.5 MB/s eta 0:00:03\n",
      "     ---------------------------- ----------- 9.0/12.8 MB 1.5 MB/s eta 0:00:03\n",
      "     ---------------------------- ----------- 9.1/12.8 MB 1.5 MB/s eta 0:00:03\n",
      "     ---------------------------- ----------- 9.2/12.8 MB 1.5 MB/s eta 0:00:03\n",
      "     ----------------------------- ---------- 9.4/12.8 MB 1.5 MB/s eta 0:00:03\n",
      "     ----------------------------- ---------- 9.5/12.8 MB 1.5 MB/s eta 0:00:03\n",
      "     ------------------------------ --------- 9.6/12.8 MB 1.5 MB/s eta 0:00:03\n",
      "     ------------------------------ --------- 9.8/12.8 MB 1.5 MB/s eta 0:00:02\n",
      "     ------------------------------ --------- 9.9/12.8 MB 1.5 MB/s eta 0:00:02\n",
      "     ------------------------------- -------- 10.1/12.8 MB 1.6 MB/s eta 0:00:02\n",
      "     ------------------------------- -------- 10.2/12.8 MB 1.6 MB/s eta 0:00:02\n",
      "     -------------------------------- ------- 10.3/12.8 MB 1.6 MB/s eta 0:00:02\n",
      "     -------------------------------- ------- 10.5/12.8 MB 1.6 MB/s eta 0:00:02\n",
      "     --------------------------------- ------ 10.7/12.8 MB 1.6 MB/s eta 0:00:02\n",
      "     --------------------------------- ------ 10.8/12.8 MB 1.7 MB/s eta 0:00:02\n",
      "     ---------------------------------- ----- 11.0/12.8 MB 1.9 MB/s eta 0:00:01\n",
      "     ---------------------------------- ----- 11.1/12.8 MB 1.9 MB/s eta 0:00:01\n",
      "     ----------------------------------- ---- 11.3/12.8 MB 1.9 MB/s eta 0:00:01\n",
      "     ----------------------------------- ---- 11.5/12.8 MB 1.9 MB/s eta 0:00:01\n",
      "     ------------------------------------ --- 11.6/12.8 MB 1.9 MB/s eta 0:00:01\n",
      "     ------------------------------------ --- 11.7/12.8 MB 1.9 MB/s eta 0:00:01\n",
      "     ------------------------------------- -- 11.9/12.8 MB 1.9 MB/s eta 0:00:01\n",
      "     ------------------------------------- -- 12.1/12.8 MB 1.9 MB/s eta 0:00:01\n",
      "     -------------------------------------- - 12.2/12.8 MB 1.9 MB/s eta 0:00:01\n",
      "     -------------------------------------- - 12.3/12.8 MB 1.9 MB/s eta 0:00:01\n",
      "     -------------------------------------- - 12.4/12.8 MB 1.9 MB/s eta 0:00:01\n",
      "     ---------------------------------------  12.5/12.8 MB 1.9 MB/s eta 0:00:01\n",
      "     ---------------------------------------  12.6/12.8 MB 1.9 MB/s eta 0:00:01\n",
      "     ---------------------------------------  12.8/12.8 MB 1.9 MB/s eta 0:00:01\n",
      "     ---------------------------------------  12.8/12.8 MB 1.9 MB/s eta 0:00:01\n",
      "     ---------------------------------------- 12.8/12.8 MB 1.9 MB/s eta 0:00:00\n",
      "Requirement already satisfied: spacy<3.8.0,>=3.7.2 in c:\\users\\panpu\\appdata\\roaming\\python\\python311\\site-packages (from en-core-web-sm==3.7.1) (3.7.2)\n",
      "Requirement already satisfied: spacy-legacy<3.1.0,>=3.0.11 in c:\\users\\panpu\\appdata\\roaming\\python\\python311\\site-packages (from spacy<3.8.0,>=3.7.2->en-core-web-sm==3.7.1) (3.0.12)\n",
      "Requirement already satisfied: spacy-loggers<2.0.0,>=1.0.0 in c:\\users\\panpu\\appdata\\roaming\\python\\python311\\site-packages (from spacy<3.8.0,>=3.7.2->en-core-web-sm==3.7.1) (1.0.5)\n",
      "Requirement already satisfied: murmurhash<1.1.0,>=0.28.0 in c:\\users\\panpu\\appdata\\roaming\\python\\python311\\site-packages (from spacy<3.8.0,>=3.7.2->en-core-web-sm==3.7.1) (1.0.10)\n",
      "Requirement already satisfied: cymem<2.1.0,>=2.0.2 in c:\\users\\panpu\\appdata\\roaming\\python\\python311\\site-packages (from spacy<3.8.0,>=3.7.2->en-core-web-sm==3.7.1) (2.0.8)\n",
      "Requirement already satisfied: preshed<3.1.0,>=3.0.2 in c:\\users\\panpu\\appdata\\roaming\\python\\python311\\site-packages (from spacy<3.8.0,>=3.7.2->en-core-web-sm==3.7.1) (3.0.9)\n",
      "Requirement already satisfied: thinc<8.3.0,>=8.1.8 in c:\\users\\panpu\\appdata\\roaming\\python\\python311\\site-packages (from spacy<3.8.0,>=3.7.2->en-core-web-sm==3.7.1) (8.2.1)\n",
      "Requirement already satisfied: wasabi<1.2.0,>=0.9.1 in c:\\users\\panpu\\appdata\\roaming\\python\\python311\\site-packages (from spacy<3.8.0,>=3.7.2->en-core-web-sm==3.7.1) (1.1.2)\n",
      "Requirement already satisfied: srsly<3.0.0,>=2.4.3 in c:\\users\\panpu\\appdata\\roaming\\python\\python311\\site-packages (from spacy<3.8.0,>=3.7.2->en-core-web-sm==3.7.1) (2.4.8)\n",
      "Requirement already satisfied: catalogue<2.1.0,>=2.0.6 in c:\\users\\panpu\\appdata\\roaming\\python\\python311\\site-packages (from spacy<3.8.0,>=3.7.2->en-core-web-sm==3.7.1) (2.0.10)\n",
      "Requirement already satisfied: weasel<0.4.0,>=0.1.0 in c:\\users\\panpu\\appdata\\roaming\\python\\python311\\site-packages (from spacy<3.8.0,>=3.7.2->en-core-web-sm==3.7.1) (0.3.4)\n",
      "Requirement already satisfied: typer<0.10.0,>=0.3.0 in c:\\users\\panpu\\appdata\\roaming\\python\\python311\\site-packages (from spacy<3.8.0,>=3.7.2->en-core-web-sm==3.7.1) (0.9.0)\n",
      "Requirement already satisfied: smart-open<7.0.0,>=5.2.1 in c:\\programdata\\anaconda3\\lib\\site-packages (from spacy<3.8.0,>=3.7.2->en-core-web-sm==3.7.1) (5.2.1)\n",
      "Requirement already satisfied: tqdm<5.0.0,>=4.38.0 in c:\\programdata\\anaconda3\\lib\\site-packages (from spacy<3.8.0,>=3.7.2->en-core-web-sm==3.7.1) (4.65.0)\n",
      "Requirement already satisfied: requests<3.0.0,>=2.13.0 in c:\\programdata\\anaconda3\\lib\\site-packages (from spacy<3.8.0,>=3.7.2->en-core-web-sm==3.7.1) (2.31.0)\n",
      "Requirement already satisfied: pydantic!=1.8,!=1.8.1,<3.0.0,>=1.7.4 in c:\\users\\panpu\\appdata\\roaming\\python\\python311\\site-packages (from spacy<3.8.0,>=3.7.2->en-core-web-sm==3.7.1) (2.5.2)\n",
      "Requirement already satisfied: jinja2 in c:\\programdata\\anaconda3\\lib\\site-packages (from spacy<3.8.0,>=3.7.2->en-core-web-sm==3.7.1) (3.1.2)\n",
      "Requirement already satisfied: setuptools in c:\\programdata\\anaconda3\\lib\\site-packages (from spacy<3.8.0,>=3.7.2->en-core-web-sm==3.7.1) (68.0.0)\n",
      "Requirement already satisfied: packaging>=20.0 in c:\\programdata\\anaconda3\\lib\\site-packages (from spacy<3.8.0,>=3.7.2->en-core-web-sm==3.7.1) (23.0)\n",
      "Requirement already satisfied: langcodes<4.0.0,>=3.2.0 in c:\\users\\panpu\\appdata\\roaming\\python\\python311\\site-packages (from spacy<3.8.0,>=3.7.2->en-core-web-sm==3.7.1) (3.3.0)\n",
      "Requirement already satisfied: numpy>=1.19.0 in c:\\programdata\\anaconda3\\lib\\site-packages (from spacy<3.8.0,>=3.7.2->en-core-web-sm==3.7.1) (1.24.3)\n",
      "Requirement already satisfied: annotated-types>=0.4.0 in c:\\users\\panpu\\appdata\\roaming\\python\\python311\\site-packages (from pydantic!=1.8,!=1.8.1,<3.0.0,>=1.7.4->spacy<3.8.0,>=3.7.2->en-core-web-sm==3.7.1) (0.6.0)\n",
      "Requirement already satisfied: pydantic-core==2.14.5 in c:\\users\\panpu\\appdata\\roaming\\python\\python311\\site-packages (from pydantic!=1.8,!=1.8.1,<3.0.0,>=1.7.4->spacy<3.8.0,>=3.7.2->en-core-web-sm==3.7.1) (2.14.5)\n",
      "Requirement already satisfied: typing-extensions>=4.6.1 in c:\\programdata\\anaconda3\\lib\\site-packages (from pydantic!=1.8,!=1.8.1,<3.0.0,>=1.7.4->spacy<3.8.0,>=3.7.2->en-core-web-sm==3.7.1) (4.7.1)\n",
      "Requirement already satisfied: charset-normalizer<4,>=2 in c:\\programdata\\anaconda3\\lib\\site-packages (from requests<3.0.0,>=2.13.0->spacy<3.8.0,>=3.7.2->en-core-web-sm==3.7.1) (2.0.4)\n",
      "Requirement already satisfied: idna<4,>=2.5 in c:\\programdata\\anaconda3\\lib\\site-packages (from requests<3.0.0,>=2.13.0->spacy<3.8.0,>=3.7.2->en-core-web-sm==3.7.1) (3.4)\n",
      "Requirement already satisfied: urllib3<3,>=1.21.1 in c:\\programdata\\anaconda3\\lib\\site-packages (from requests<3.0.0,>=2.13.0->spacy<3.8.0,>=3.7.2->en-core-web-sm==3.7.1) (1.26.16)\n",
      "Requirement already satisfied: certifi>=2017.4.17 in c:\\programdata\\anaconda3\\lib\\site-packages (from requests<3.0.0,>=2.13.0->spacy<3.8.0,>=3.7.2->en-core-web-sm==3.7.1) (2023.7.22)\n",
      "Requirement already satisfied: blis<0.8.0,>=0.7.8 in c:\\users\\panpu\\appdata\\roaming\\python\\python311\\site-packages (from thinc<8.3.0,>=8.1.8->spacy<3.8.0,>=3.7.2->en-core-web-sm==3.7.1) (0.7.11)\n",
      "Requirement already satisfied: confection<1.0.0,>=0.0.1 in c:\\users\\panpu\\appdata\\roaming\\python\\python311\\site-packages (from thinc<8.3.0,>=8.1.8->spacy<3.8.0,>=3.7.2->en-core-web-sm==3.7.1) (0.1.4)\n",
      "Requirement already satisfied: colorama in c:\\programdata\\anaconda3\\lib\\site-packages (from tqdm<5.0.0,>=4.38.0->spacy<3.8.0,>=3.7.2->en-core-web-sm==3.7.1) (0.4.6)\n",
      "Requirement already satisfied: click<9.0.0,>=7.1.1 in c:\\programdata\\anaconda3\\lib\\site-packages (from typer<0.10.0,>=0.3.0->spacy<3.8.0,>=3.7.2->en-core-web-sm==3.7.1) (8.0.4)\n",
      "Requirement already satisfied: cloudpathlib<0.17.0,>=0.7.0 in c:\\users\\panpu\\appdata\\roaming\\python\\python311\\site-packages (from weasel<0.4.0,>=0.1.0->spacy<3.8.0,>=3.7.2->en-core-web-sm==3.7.1) (0.16.0)\n",
      "Requirement already satisfied: MarkupSafe>=2.0 in c:\\programdata\\anaconda3\\lib\\site-packages (from jinja2->spacy<3.8.0,>=3.7.2->en-core-web-sm==3.7.1) (2.1.1)\n",
      "Installing collected packages: en-core-web-sm\n",
      "Successfully installed en-core-web-sm-3.7.1\n",
      "\u001b[38;5;2m✔ Download and installation successful\u001b[0m\n",
      "You can now load the package via spacy.load('en_core_web_sm')\n"
     ]
    }
   ],
   "source": [
    "!python -m spacy download en_core_web_sm"
   ]
  },
  {
   "cell_type": "code",
   "execution_count": 32,
   "metadata": {},
   "outputs": [],
   "source": [
    "text = \"The Orbiter Discovery, OV-103, is considered eligible for listing in the National Register of Historic Places (NRHP) in the context of the U.S. Space Shuttle Program (1969-2011) under Criterion A in the areas of Space Exploration and Transportation and under Criterion C in the area of Engineering. Because it has achieved significance within the past fifty years, Criteria Consideration G applies. Under Criterion A, Discovery is significant as the oldest of the three extant orbiter vehicles constructed for the Space Shuttle Program (SSP), the longest running American space program to date; she was the third of five orbiters built by NASA. Unlike the Mercury, Gemini, and Apollo programs, the SSP’s emphasis was on cost effectiveness and reusability, and eventually the construction of a space station. Including her maiden voyage (launched August 30, 1984), Discovery flew to space thirty-nine times, more than any of the other four orbiters; she was also the first orbiter to fly twenty missions. She had the honor of being chosen as the Return to Flight vehicle after both the Challenger and Columbia accidents. Discovery was the first shuttle to fly with the redesigned SRBs, a result of the Challenger accident, and the first shuttle to fly with the Phase II and Block I SSME. Discovery also carried the Hubble Space Telescope to orbit and performed two of the five servicing missions to the observatory. She flew the first and last dedicated Department of Defense (DoD) missions, as well as the first unclassified defense-related mission. In addition, Discovery was vital to the construction of the International Space Station (ISS); she flew thirteen of the thirty-seven total missions flown to the station by a U.S. Space Shuttle. She was the first orbiter to dock to the ISS, and the first to perform an exchange of a resident crew. Under Criterion C, Discovery is significant as a feat of engineering. According to Wayne Hale, a flight director from Johnson Space Center, the Space Shuttle orbiter represents a “huge technological leap from expendable rockets and capsules to a reusable, winged, hypersonic, cargo-carrying spacecraft.” Although her base structure followed a conventional aircraft design, she used advanced materials that both minimized her weight for cargo-carrying purposes and featured low thermal expansion ratios, which provided a stable base for her Thermal Protection System (TPS) materials. The Space Shuttle orbiter also featured the first reusable TPS; all previous spaceflight vehicles had a single-use, ablative heat shield. Other notable engineering achievements of the orbiter included the first reusable orbital propulsion system, and the first two-fault-tolerant Integrated Avionics System. As Hale stated, the Space Shuttle remains “the largest, fastest, winged hypersonic aircraft in history,” having regularly flown at twenty-five times the speed of sound.\""
   ]
  },
  {
   "cell_type": "code",
   "execution_count": 33,
   "metadata": {},
   "outputs": [],
   "source": [
    "nlp = spacy.load(\"en_core_web_sm\")\n",
    "doc = nlp(text)"
   ]
  },
  {
   "cell_type": "code",
   "execution_count": 34,
   "metadata": {},
   "outputs": [
    {
     "name": "stdout",
     "output_type": "stream",
     "text": [
      "['thereupon', \"'m\", 'unless', 'did', 'except', 'yet', 'those', \"'d\", 'after', \"'ve\", 'just', 'down', 'thereafter', '‘re', 'but', 'herself', 'its', 'such', 'while', 'whether', 'should', 'say', 'any', 'quite', 'part', 'ever', 'yourselves', 'some', 'n’t', 'nine', 'myself', 'ourselves', 'which', 'former', 'less', 'all', 'side', 'therein', '‘ve', 'us', 'were', 'always', 'who', 'even', 'many', 'yours', 'together', 'sometimes', 'at', 'enough', 'when', 'hereupon', 'these', 'least', 'off', 'somehow', 'beforehand', 'below', 'moreover', 'had', 'until', 'nobody', 'almost', 'same', 'his', 'mine', 'for', 'be', 'again', 'also', '‘m', 'onto', 'do', 'hundred', 'whoever', 'well', 'sixty', 'elsewhere', 'show', 'though', 'himself', 'because', 'out', \"'ll\", 'anyone', 'so', 'although', 'most', 'are', 'seem', 'front', 'why', 'how', 'between', 'several', 'n‘t', 'seeming', 'a', 'my', 'two', 'twelve', 'else', 'give', 'amongst', 'have', 'due', 'ours', 'mostly', 'our', 'becomes', 'been', 'here', 'besides', 'nowhere', 'none', 'cannot', 'than', 'formerly', 'your', 'forty', 'thence', '’ve', 'on', 'could', 'am', 'hers', 'sometime', 'latter', 'much', 'one', 'please', 'first', 'seems', 'anywhere', 'go', 'full', \"'re\", 'this', 'own', 'among', 'three', 'i', 'each', 'latterly', 'became', 'neither', 'per', 'then', 'take', 'that', 'top', 'no', 'more', 're', 'becoming', 'up', \"'s\", 'fifteen', 'if', 'to', 'wherein', 'from', 'an', 'whose', 'otherwise', 'wherever', 'make', 'everywhere', 'throughout', 'whatever', 'now', '’m', 'hereby', 'amount', 'ca', 'someone', 'anything', 'over', 'four', 'being', 'whither', 'rather', 'via', 'meanwhile', 'nevertheless', 'call', 'various', 'and', 'whence', 'during', 'does', 'thus', 'ten', 'hereafter', 'serious', 'every', '’s', 'nothing', 'used', 'toward', '‘d', 'by', '‘ll', 'often', 'might', 'next', 'as', 'or', 'five', 'behind', '’re', 'across', 'somewhere', 'in', 'only', 'empty', 'something', 'hence', 'either', 'may', \"n't\", 'upon', 'everything', 'what', 'indeed', 'beyond', 'about', 'there', 'whereupon', 'itself', 'the', 'you', 'everyone', 'very', 'therefore', 'other', 'where', 'was', 'thereby', 'twenty', 'not', 'along', 'anyhow', 'become', 'we', 'whereas', 'move', 'third', 'alone', 'eight', 'into', 'namely', 'further', 'above', 'still', '’ll', 'before', 'eleven', 'whenever', 'will', 'whereby', 'doing', 'her', 'through', 'too', 'beside', 'can', 'put', 'against', 'already', 'regarding', 'name', 'both', 'others', 'herein', 'is', 'bottom', 'get', 'of', 'really', 'them', 'whom', 'done', 'never', 'towards', 'whole', 'last', 'within', 'themselves', '’d', '‘s', 'under', 'few', 'without', 'yourself', 'noone', 'perhaps', 'fifty', 'around', 'their', 'made', 'seemed', 'see', 'since', 'afterwards', 'him', 'they', 'using', 'he', 'me', 'thru', 'back', 'keep', 'six', 'would', 'however', 'once', 'must', 'whereafter', 'has', 'nor', 'with', 'anyway', 'she', 'it', 'another']\n",
      "!\"#$%&'()*+,-./:;<=>?@[\\]^_`{|}~\n",
      "\n"
     ]
    }
   ],
   "source": [
    "sp_stopwords = list(spacy_SW)\n",
    "punctuation = punct + '\\n'\n",
    "print(sp_stopwords)\n",
    "print(punctuation)"
   ]
  },
  {
   "cell_type": "code",
   "execution_count": 36,
   "metadata": {},
   "outputs": [],
   "source": [
    "word_frequencies = {}\n",
    "\n",
    "for word in doc:\n",
    "    if word.text.lower() not in sp_stopwords and word.text.lower() not in punctuation:\n",
    "        if word.text not in word_frequencies:\n",
    "            word_frequencies[word.text] = 1\n",
    "        else:\n",
    "            word_frequencies[word.text] += 1\n",
    "\n",
    "max_frequency = max(word_frequencies.values())\n",
    "\n",
    "for word in word_frequencies.keys():\n",
    "    word_frequencies[word] = word_frequencies[word] / max_frequency\n",
    "\n"
   ]
  },
  {
   "cell_type": "code",
   "execution_count": 37,
   "metadata": {},
   "outputs": [
    {
     "data": {
      "text/plain": [
       "{The Orbiter Discovery, OV-103, is considered eligible for listing in the National Register of Historic Places (NRHP) in the context of the U.S. Space Shuttle Program (1969-2011) under Criterion A in the areas of Space Exploration and Transportation and under Criterion C in the area of Engineering.: 2.5000000000000004,\n",
       " Because it has achieved significance within the past fifty years, Criteria Consideration G applies.: 0.5,\n",
       " Under Criterion A, Discovery is significant as the oldest of the three extant orbiter vehicles constructed for the Space Shuttle Program (SSP), the longest running American space program to date; she was the third of five orbiters built by NASA.: 2.9000000000000004,\n",
       " Unlike the Mercury, Gemini, and Apollo programs, the SSP’s emphasis was on cost effectiveness and reusability, and eventually the construction of a space station.: 1.3,\n",
       " Including her maiden voyage (launched August 30, 1984), Discovery flew to space thirty-nine times, more than any of the other four orbiters; she was also the first orbiter to fly twenty missions.: 2.9999999999999996,\n",
       " She had the honor of being chosen as the Return to Flight vehicle after both the Challenger and Columbia accidents.: 0.5,\n",
       " Discovery was the first shuttle to fly with the redesigned SRBs, a result of the Challenger accident, and the first shuttle to fly with the Phase II and Block I SSME.: 1.3,\n",
       " Discovery also carried the Hubble Space Telescope to orbit and performed two of the five servicing missions to the observatory.: 1.2000000000000002,\n",
       " She flew the first and last dedicated Department of Defense (DoD) missions, as well as the first unclassified defense-related mission.: 1.3000000000000003,\n",
       " In addition, Discovery was vital to the construction of the International Space Station (ISS); she flew thirteen of the thirty-seven total missions flown to the station by a U.S. Space Shuttle.: 3.0000000000000004,\n",
       " She was the first orbiter to dock to the ISS, and the first to perform an exchange of a resident crew.: 1.0999999999999999,\n",
       " Under Criterion C, Discovery is significant as a feat of engineering.: 0.5,\n",
       " According to Wayne Hale, a flight director from Johnson Space Center, the Space Shuttle orbiter represents a “huge technological leap from expendable rockets and capsules to a reusable, winged, hypersonic, cargo-carrying spacecraft.”: 3.9000000000000012,\n",
       " Although her base structure followed a conventional aircraft design, she used advanced materials that both minimized her weight for cargo-carrying purposes and featured low thermal expansion ratios, which provided a stable base for her Thermal Protection System (TPS) materials.: 3.200000000000001,\n",
       " The Space Shuttle orbiter also featured the first reusable TPS; all previous spaceflight vehicles had a single-use, ablative heat shield.: 2.500000000000001,\n",
       " Other notable engineering achievements of the orbiter included the first reusable orbital propulsion system, and the first two-fault-tolerant Integrated Avionics System.: 2.0000000000000004,\n",
       " As Hale stated, the Space Shuttle remains “the largest, fastest, winged hypersonic aircraft in history,” having regularly flown at twenty-five times the speed of sound.: 2.800000000000001}"
      ]
     },
     "execution_count": 37,
     "metadata": {},
     "output_type": "execute_result"
    }
   ],
   "source": [
    "sentence_tokens = list(doc.sents)\n",
    "\n",
    "sentence_scores = {}\n",
    "\n",
    "for sent in sentence_tokens:\n",
    "    for word in sent:\n",
    "        if word.text.lower() in word_frequencies.keys():\n",
    "            if sent not in sentence_scores:\n",
    "                sentence_scores[sent] = word_frequencies[word.text.lower()]\n",
    "            else:\n",
    "                sentence_scores[sent] += word_frequencies[word.text.lower()]\n",
    "                \n",
    "sentence_scores"
   ]
  },
  {
   "cell_type": "code",
   "execution_count": 38,
   "metadata": {},
   "outputs": [
    {
     "name": "stdout",
     "output_type": "stream",
     "text": [
      "According to Wayne Hale, a flight director from Johnson Space Center, the Space Shuttle orbiter represents a “huge technological leap from expendable rockets and capsules to a reusable, winged, hypersonic, cargo-carrying spacecraft.”\n",
      "Although her base structure followed a conventional aircraft design, she used advanced materials that both minimized her weight for cargo-carrying purposes and featured low thermal expansion ratios, which provided a stable base for her Thermal Protection System (TPS) materials.\n",
      "In addition, Discovery was vital to the construction of the International Space Station (ISS); she flew thirteen of the thirty-seven total missions flown to the station by a U.S. Space Shuttle.\n",
      "Including her maiden voyage (launched August 30, 1984), Discovery flew to space thirty-nine times, more than any of the other four orbiters; she was also the first orbiter to fly twenty missions.\n",
      "Under Criterion A, Discovery is significant as the oldest of the three extant orbiter vehicles constructed for the Space Shuttle Program (SSP), the longest running American space program to date; she was the third of five orbiters built by NASA.\n",
      "As Hale stated, the Space Shuttle remains “the largest, fastest, winged hypersonic aircraft in history,” having regularly flown at twenty-five times the speed of sound.\n",
      "The Space Shuttle orbiter also featured the first reusable TPS; all previous spaceflight vehicles had a single-use, ablative heat shield.\n",
      "The Orbiter Discovery, OV-103, is considered eligible for listing in the National Register of Historic Places (NRHP) in the context of the U.S. Space Shuttle Program (1969-2011) under Criterion A in the areas of Space Exploration and Transportation and under Criterion C in the area of Engineering.\n",
      "Other notable engineering achievements of the orbiter included the first reusable orbital propulsion system, and the first two-fault-tolerant Integrated Avionics System.\n",
      "She flew the first and last dedicated Department of Defense (DoD) missions, as well as the first unclassified defense-related mission.\n",
      "Unlike the Mercury, Gemini, and Apollo programs, the SSP’s emphasis was on cost effectiveness and reusability, and eventually the construction of a space station.\n",
      "Discovery was the first shuttle to fly with the redesigned SRBs, a result of the Challenger accident, and the first shuttle to fly with the Phase II and Block I SSME.\n",
      "Discovery also carried the Hubble Space Telescope to orbit and performed two of the five servicing missions to the observatory.\n",
      "She was the first orbiter to dock to the ISS, and the first to perform an exchange of a resident crew.\n",
      "Because it has achieved significance within the past fifty years, Criteria Consideration G applies.\n",
      "She had the honor of being chosen as the Return to Flight vehicle after both the Challenger and Columbia accidents.\n",
      "Under Criterion C, Discovery is significant as a feat of engineering.\n"
     ]
    }
   ],
   "source": [
    "select_length = len(sentence_tokens)\n",
    "\n",
    "summary = nlargest(select_length, sentence_scores, key=sentence_scores.get)\n",
    "for sentence in summary:\n",
    "    print(sentence.text)"
   ]
  },
  {
   "cell_type": "markdown",
   "metadata": {},
   "source": [
    "**NLTK**"
   ]
  },
  {
   "cell_type": "code",
   "execution_count": 39,
   "metadata": {},
   "outputs": [],
   "source": [
    "import nltk\n",
    "from nltk.corpus import stopwords\n",
    "from nltk.tokenize import word_tokenize, sent_tokenize\n",
    "from heapq import nlargest"
   ]
  },
  {
   "cell_type": "code",
   "execution_count": 40,
   "metadata": {},
   "outputs": [
    {
     "name": "stdout",
     "output_type": "stream",
     "text": [
      "{'so', \"shan't\", \"needn't\", 'most', 'did', 'won', 'shan', 'don', 'd', 'are', \"shouldn't\", 'now', 'ma', \"aren't\", 'into', 'why', 'how', 'll', 'between', 'over', 'further', 'above', 'couldn', 'those', 'being', 'after', 'needn', 'just', 'down', 'hasn', 'before', 'a', 'my', \"you're\", 'but', 'having', 'herself', 'its', 'such', 'while', 'will', 'should', \"mightn't\", 'and', 'doing', 'any', 'm', 'mightn', 'hadn', 'during', 'her', 'through', 'too', 'does', 'yourselves', 'have', 'can', 'some', 'ours', 'against', \"couldn't\", \"mustn't\", \"she's\", 'our', \"you've\", 'myself', 'been', 'aren', 'ourselves', 'here', 'which', 'both', 's', 'than', 'mustn', 'weren', 'your', 'by', 'all', 'on', \"wouldn't\", 'is', 'were', 'am', \"hadn't\", 'of', \"hasn't\", 'them', 'as', 'whom', 'or', \"didn't\", 'who', \"it's\", \"should've\", 'yours', 'hers', \"you'll\", 'at', 'when', 'in', 'only', 'o', 'these', \"weren't\", 'themselves', \"isn't\", 'under', 'this', 'few', 'yourself', 'wouldn', 'own', 'off', 'what', 'didn', 'below', 'had', 'until', 'i', 'about', 'there', 'each', 'itself', 'the', 'their', 'his', 'same', 'then', 'you', 'y', 'for', 't', 'him', 'be', 'that', 'very', 'they', 'again', 'no', 'more', 'other', 're', 'where', 'up', \"you'd\", \"haven't\", 'shouldn', \"wasn't\", \"doesn't\", 'isn', 'he', 'do', 'was', 'me', 'if', 'once', \"that'll\", \"won't\", 'has', \"don't\", 'to', 'nor', 'theirs', 'with', 'from', 'not', 've', 'she', 'it', 'an', 'wasn', 'ain', 'doesn', 'himself', 'haven', 'we', 'because', 'out'}\n"
     ]
    },
    {
     "name": "stderr",
     "output_type": "stream",
     "text": [
      "[nltk_data] Downloading package stopwords to\n",
      "[nltk_data]     C:\\Users\\panpu\\AppData\\Roaming\\nltk_data...\n",
      "[nltk_data]   Package stopwords is already up-to-date!\n",
      "[nltk_data] Downloading package punkt to\n",
      "[nltk_data]     C:\\Users\\panpu\\AppData\\Roaming\\nltk_data...\n",
      "[nltk_data]   Package punkt is already up-to-date!\n"
     ]
    }
   ],
   "source": [
    "nltk.download('stopwords')\n",
    "nltk.download('punkt')\n",
    "nltk_stop_words = set(stopwords.words('english'))\n",
    "print(nltk_stop_words)"
   ]
  },
  {
   "cell_type": "code",
   "execution_count": 41,
   "metadata": {},
   "outputs": [
    {
     "name": "stdout",
     "output_type": "stream",
     "text": [
      "Number of words in text: 519\n",
      "Number of sentences in text: 16\n"
     ]
    }
   ],
   "source": [
    "nltk_tokens = word_tokenize(text)\n",
    "sentences_list = sent_tokenize(text)\n",
    "print(f'Number of words in text: {len(nltk_tokens)}')\n",
    "print(f'Number of sentences in text: {len(sentences_list)}')"
   ]
  },
  {
   "cell_type": "code",
   "execution_count": 42,
   "metadata": {},
   "outputs": [],
   "source": [
    "nltk_word_frequencies = {}\n",
    "\n",
    "for word in nltk_tokens:\n",
    "    if word.lower() not in nltk_stop_words and word.lower() not in punctuation:\n",
    "        if word not in nltk_word_frequencies:\n",
    "            nltk_word_frequencies[word] = 1\n",
    "        else:\n",
    "            nltk_word_frequencies[word] += 1\n",
    "\n",
    "nltk_max_frequency = max(nltk_word_frequencies.values())\n",
    "\n",
    "for word in nltk_word_frequencies.keys():\n",
    "    nltk_word_frequencies[word] = nltk_word_frequencies[word] / nltk_max_frequency"
   ]
  },
  {
   "cell_type": "code",
   "execution_count": 43,
   "metadata": {},
   "outputs": [
    {
     "data": {
      "text/plain": [
       "{'The Orbiter Discovery, OV-103, is considered eligible for listing in the National Register of Historic Places (NRHP) in the context of the U.S. Space Shuttle Program (1969-2011) under Criterion A in the areas of Space Exploration and Transportation and under Criterion C in the area of Engineering.': 2.4000000000000004,\n",
       " 'Because it has achieved significance within the past fifty years, Criteria Consideration G applies.': 0.7,\n",
       " 'Under Criterion A, Discovery is significant as the oldest of the three extant orbiter vehicles constructed for the Space Shuttle Program (SSP), the longest running American space program to date; she was the third of five orbiters built by NASA.': 3.3000000000000007,\n",
       " 'Unlike the Mercury, Gemini, and Apollo programs, the SSP’s emphasis was on cost effectiveness and reusability, and eventually the construction of a space station.': 1.4,\n",
       " 'Including her maiden voyage (launched August 30, 1984), Discovery flew to space thirty-nine times, more than any of the other four orbiters; she was also the first orbiter to fly twenty missions.': 4.4,\n",
       " 'She had the honor of being chosen as the Return to Flight vehicle after both the Challenger and Columbia accidents.': 0.5,\n",
       " 'Discovery was the first shuttle to fly with the redesigned SRBs, a result of the Challenger accident, and the first shuttle to fly with the Phase II and Block I SSME.': 3.3000000000000003,\n",
       " 'Discovery also carried the Hubble Space Telescope to orbit and performed two of the five servicing missions to the observatory.': 1.8000000000000003,\n",
       " 'She flew the first and last dedicated Department of Defense (DoD) missions, as well as the first unclassified defense-related mission.': 3.3000000000000007,\n",
       " 'In addition, Discovery was vital to the construction of the International Space Station (ISS); she flew thirteen of the thirty-seven total missions flown to the station by a U.S. Space Shuttle.': 2.8000000000000007,\n",
       " 'She was the first orbiter to dock to the ISS, and the first to perform an exchange of a resident crew.': 3.1000000000000005,\n",
       " 'Under Criterion C, Discovery is significant as a feat of engineering.': 0.5,\n",
       " 'According to Wayne Hale, a flight director from Johnson Space Center, the Space Shuttle orbiter represents a “huge technological leap from expendable rockets and capsules to a reusable, winged, hypersonic, cargo-carrying spacecraft.” Although her base structure followed a conventional aircraft design, she used advanced materials that both minimized her weight for cargo-carrying purposes and featured low thermal expansion ratios, which provided a stable base for her Thermal Protection System (TPS) materials.': 6.799999999999996,\n",
       " 'The Space Shuttle orbiter also featured the first reusable TPS; all previous spaceflight vehicles had a single-use, ablative heat shield.': 3.7000000000000006,\n",
       " 'Other notable engineering achievements of the orbiter included the first reusable orbital propulsion system, and the first two-fault-tolerant Integrated Avionics System.': 3.9000000000000004,\n",
       " 'As Hale stated, the Space Shuttle remains “the largest, fastest, winged hypersonic aircraft in history,” having regularly flown at twenty-five times the speed of sound.': 2.800000000000001}"
      ]
     },
     "execution_count": 43,
     "metadata": {},
     "output_type": "execute_result"
    }
   ],
   "source": [
    "nltk_sentence_score = {}\n",
    "\n",
    "for sent in sentences_list:\n",
    "    for word in word_tokenize(sent.lower()):\n",
    "        if word.lower() in nltk_word_frequencies.keys():\n",
    "            if sent not in nltk_sentence_score:\n",
    "                nltk_sentence_score[sent] = nltk_word_frequencies[word.lower()]\n",
    "            else:\n",
    "                nltk_sentence_score[sent] += nltk_word_frequencies[word.lower()]\n",
    "\n",
    "nltk_sentence_score"
   ]
  },
  {
   "cell_type": "code",
   "execution_count": 44,
   "metadata": {},
   "outputs": [
    {
     "name": "stdout",
     "output_type": "stream",
     "text": [
      "According to Wayne Hale, a flight director from Johnson Space Center, the Space Shuttle orbiter represents a “huge technological leap from expendable rockets and capsules to a reusable, winged, hypersonic, cargo-carrying spacecraft.” Although her base structure followed a conventional aircraft design, she used advanced materials that both minimized her weight for cargo-carrying purposes and featured low thermal expansion ratios, which provided a stable base for her Thermal Protection System (TPS) materials.\n",
      "Including her maiden voyage (launched August 30, 1984), Discovery flew to space thirty-nine times, more than any of the other four orbiters; she was also the first orbiter to fly twenty missions.\n",
      "Other notable engineering achievements of the orbiter included the first reusable orbital propulsion system, and the first two-fault-tolerant Integrated Avionics System.\n",
      "The Space Shuttle orbiter also featured the first reusable TPS; all previous spaceflight vehicles had a single-use, ablative heat shield.\n",
      "Under Criterion A, Discovery is significant as the oldest of the three extant orbiter vehicles constructed for the Space Shuttle Program (SSP), the longest running American space program to date; she was the third of five orbiters built by NASA.\n",
      "She flew the first and last dedicated Department of Defense (DoD) missions, as well as the first unclassified defense-related mission.\n",
      "Discovery was the first shuttle to fly with the redesigned SRBs, a result of the Challenger accident, and the first shuttle to fly with the Phase II and Block I SSME.\n",
      "She was the first orbiter to dock to the ISS, and the first to perform an exchange of a resident crew.\n",
      "As Hale stated, the Space Shuttle remains “the largest, fastest, winged hypersonic aircraft in history,” having regularly flown at twenty-five times the speed of sound.\n",
      "In addition, Discovery was vital to the construction of the International Space Station (ISS); she flew thirteen of the thirty-seven total missions flown to the station by a U.S. Space Shuttle.\n",
      "The Orbiter Discovery, OV-103, is considered eligible for listing in the National Register of Historic Places (NRHP) in the context of the U.S. Space Shuttle Program (1969-2011) under Criterion A in the areas of Space Exploration and Transportation and under Criterion C in the area of Engineering.\n",
      "Discovery also carried the Hubble Space Telescope to orbit and performed two of the five servicing missions to the observatory.\n",
      "Unlike the Mercury, Gemini, and Apollo programs, the SSP’s emphasis was on cost effectiveness and reusability, and eventually the construction of a space station.\n",
      "Because it has achieved significance within the past fifty years, Criteria Consideration G applies.\n",
      "She had the honor of being chosen as the Return to Flight vehicle after both the Challenger and Columbia accidents.\n",
      "Under Criterion C, Discovery is significant as a feat of engineering.\n"
     ]
    }
   ],
   "source": [
    "nltk_select_length = len(sentences_list)\n",
    "\n",
    "nltk_summary = nlargest(nltk_select_length, nltk_sentence_score, key=nltk_sentence_score.get)\n",
    "\n",
    "for sentence in nltk_summary:\n",
    "    print(sentence)"
   ]
  }
 ],
 "metadata": {
  "kernelspec": {
   "display_name": "base",
   "language": "python",
   "name": "python3"
  },
  "language_info": {
   "codemirror_mode": {
    "name": "ipython",
    "version": 3
   },
   "file_extension": ".py",
   "mimetype": "text/x-python",
   "name": "python",
   "nbconvert_exporter": "python",
   "pygments_lexer": "ipython3",
   "version": "3.11.4"
  }
 },
 "nbformat": 4,
 "nbformat_minor": 2
}
